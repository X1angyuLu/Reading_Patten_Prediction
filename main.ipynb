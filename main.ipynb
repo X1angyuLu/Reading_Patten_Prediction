{
 "cells": [
  {
   "cell_type": "code",
   "execution_count": 8,
   "metadata": {},
   "outputs": [],
   "source": [
    "import os\n",
    "import torch\n",
    "import math\n",
    "from tqdm import tqdm\n",
    "from torch.utils.data import Dataset, DataLoader\n",
    "from torch.utils.tensorboard import SummaryWriter\n",
    "from dataloader import dataset\n",
    "from model import FFD, TRT"
   ]
  },
  {
   "cell_type": "code",
   "execution_count": 79,
   "metadata": {},
   "outputs": [],
   "source": [
    "def overlap_coefficient(interval_A, interval_B):\n",
    "    start_A, end_A = interval_A\n",
    "    start_B, end_B = interval_B\n",
    "    end_B = start_B + end_B\n",
    "    \n",
    "    intersection_start = torch.max(start_A, start_B)\n",
    "    intersection_end = torch.min(end_A, end_B)\n",
    "    \n",
    "    intersection_length = torch.clamp(intersection_end - intersection_start, min=0)\n",
    "    \n",
    "    length_A = end_A - start_A\n",
    "    length_B = end_B - start_B\n",
    "\n",
    "    if torch.min(length_A, length_B) == 0:\n",
    "        return 0.1\n",
    "\n",
    "    return intersection_length / torch.min(length_A, length_B)"
   ]
  },
  {
   "cell_type": "code",
   "execution_count": 80,
   "metadata": {},
   "outputs": [],
   "source": [
    "def loss_fn(truth, ReP):\n",
    "    ReP = ReP[0]\n",
    "    loss = torch.tensor([0]).to(device)\n",
    "    for i in range(truth.shape[0]):\n",
    "        loss = loss + 1 - overlap_coefficient(truth[i],ReP[i])\n",
    "    \n",
    "    loss = loss / truth.shape[0]\n",
    "    return loss"
   ]
  },
  {
   "cell_type": "code",
   "execution_count": 97,
   "metadata": {},
   "outputs": [],
   "source": [
    "def train(FFD, TRT, trainloader, epochs, optimizerF, optimizerT, loss_fn=loss_fn):\n",
    "    writer = SummaryWriter(\"./log/\")\n",
    "    for epoch in range(epochs):\n",
    "        loop = tqdm(enumerate(trainloader, start=epoch * len(trainloader)), total=len(trainloader), leave=False)\n",
    "        lf = 0\n",
    "        lt = 0\n",
    "        best_lf = 1000\n",
    "        best_lt = 1000\n",
    "        for step, (sentence,FFDAvg, FFDStd,TRTAvg,TRTStd) in loop:\n",
    "            sentence = [w[0] for w in sentence]\n",
    "            True_FFD = torch.cat((FFDAvg-3*FFDStd,FFDAvg+3*FFDStd)).T\n",
    "            True_TRT = torch.cat((TRTAvg-3*TRTStd,TRTAvg+3*TRTStd)).T\n",
    "\n",
    "            optimizerF.param_groups[0]['lr'] = 0.000001#adjust_learning_rate(epochs, batch_size, trainloader, step)\n",
    "            optimizerF.zero_grad()\n",
    "\n",
    "            optimizerT.param_groups[0]['lr'] = 0.000001#adjust_learning_rate(epochs, batch_size, trainloader, step)\n",
    "            optimizerT.zero_grad()\n",
    "\n",
    "            FFD_I = FFD(sentence)\n",
    "            TRT_I = TRT(sentence)\n",
    "\n",
    "            lossF = loss_fn(True_FFD, FFD_I)\n",
    "            lossF.backward()\n",
    "            optimizerF.step()\n",
    "\n",
    "            lossT = loss_fn(True_TRT, TRT_I)\n",
    "            lossT.backward()\n",
    "            optimizerT.step()\n",
    "\n",
    "            lf = lf+lossF\n",
    "            lt = lt+lossT\n",
    "\n",
    "            writer.add_scalar(\"LossF/LossT/train\", lossF, lossT, epoch)\n",
    "\n",
    "            loop.set_description(f'Epoch [{epoch}/{epochs}]')\n",
    "            loop.set_postfix(loss = lossF.cpu().detach().numpy())\n",
    "            loop.set_postfix(loss = lossT.cpu().detach().numpy())\n",
    "            \n",
    "        print(f'Loss for epoch {epoch} is {lf.cpu().detach().numpy()} and {lt.cpu().detach().numpy()}')\n",
    "        if best_lf>lf:\n",
    "            best_lf = lf\n",
    "            state = dict(epoch=epochs, model=FFD.state_dict(),\n",
    "                 optimizer=optimizerF.state_dict())\n",
    "            torch.save(state, os.path.join('.', 'checkpoints',  'best_checkpointF'+str(lf.item())+'.pth'))\n",
    "        if best_lt>lt:\n",
    "            best_lt = lt\n",
    "            state = dict(epoch=epochs, model=TRT.state_dict(),\n",
    "                 optimizer=optimizerF.state_dict())\n",
    "            torch.save(state, os.path.join('.', 'checkpoints',  'best_checkpointT'+str(lt.item())+'.pth'))\n",
    "        \n",
    "    print('End of the Training. Saving final checkpoints.')\n",
    "\n",
    "    state = dict(epoch=epochs, model=FFD.state_dict(),\n",
    "                 optimizer=optimizerF.state_dict())\n",
    "    torch.save(state, os.path.join('.', 'checkpoints',  'final_checkpointF.pth'))\n",
    "\n",
    "    state = dict(epoch=epochs, model=TRT.state_dict(),\n",
    "                 optimizer=optimizerT.state_dict())\n",
    "    torch.save(state, os.path.join('.', 'checkpoints',  'final_checkpointT.pth'))\n",
    "\n",
    "    writer.flush()\n",
    "    writer.close()    \n",
    "                \n",
    "                "
   ]
  },
  {
   "cell_type": "code",
   "execution_count": 75,
   "metadata": {},
   "outputs": [
    {
     "data": {
      "text/plain": [
       "device(type='cuda', index=0)"
      ]
     },
     "execution_count": 75,
     "metadata": {},
     "output_type": "execute_result"
    }
   ],
   "source": [
    "device = torch.device('cuda:0' if torch.cuda.is_available() else 'cpu')\n",
    "device"
   ]
  },
  {
   "cell_type": "code",
   "execution_count": 76,
   "metadata": {},
   "outputs": [],
   "source": [
    "Training_set = dataset(file_path='c:\\\\Users\\\\ludandan\\\\Desktop\\\\CCS3\\\\dataset\\\\Training\\\\train.csv', language='en')\n",
    "trainingloader = DataLoader(dataset=Training_set,batch_size=1,shuffle=True)"
   ]
  },
  {
   "cell_type": "code",
   "execution_count": 89,
   "metadata": {},
   "outputs": [
    {
     "name": "stderr",
     "output_type": "stream",
     "text": [
      "Some weights of the model checkpoint at bert-base-uncased were not used when initializing BertModel: ['cls.seq_relationship.weight', 'cls.predictions.transform.LayerNorm.weight', 'cls.predictions.bias', 'cls.predictions.transform.LayerNorm.bias', 'cls.predictions.transform.dense.weight', 'cls.predictions.decoder.weight', 'cls.seq_relationship.bias', 'cls.predictions.transform.dense.bias']\n",
      "- This IS expected if you are initializing BertModel from the checkpoint of a model trained on another task or with another architecture (e.g. initializing a BertForSequenceClassification model from a BertForPreTraining model).\n",
      "- This IS NOT expected if you are initializing BertModel from the checkpoint of a model that you expect to be exactly identical (initializing a BertForSequenceClassification model from a BertForSequenceClassification model).\n",
      "Some weights of the model checkpoint at bert-base-uncased were not used when initializing BertModel: ['cls.seq_relationship.weight', 'cls.predictions.transform.LayerNorm.weight', 'cls.predictions.bias', 'cls.predictions.transform.LayerNorm.bias', 'cls.predictions.transform.dense.weight', 'cls.predictions.decoder.weight', 'cls.seq_relationship.bias', 'cls.predictions.transform.dense.bias']\n",
      "- This IS expected if you are initializing BertModel from the checkpoint of a model trained on another task or with another architecture (e.g. initializing a BertForSequenceClassification model from a BertForPreTraining model).\n",
      "- This IS NOT expected if you are initializing BertModel from the checkpoint of a model that you expect to be exactly identical (initializing a BertForSequenceClassification model from a BertForSequenceClassification model).\n"
     ]
    }
   ],
   "source": [
    "ffd = FFD(padding=False).to(device)\n",
    "optimizerF = torch.optim.Adam(filter(lambda p: p.requires_grad, ffd.parameters()),\n",
    "                lr=0.1,\n",
    "                betas=(0.9, 0.999),\n",
    "                eps=1e-08,\n",
    "                weight_decay=0,\n",
    "                amsgrad=False)\n",
    "\n",
    "\n",
    "trt = TRT(padding=False).to(device)\n",
    "optimizerT = torch.optim.Adam(filter(lambda p: p.requires_grad, trt.parameters()),\n",
    "                lr=0.1,\n",
    "                betas=(0.9, 0.999),\n",
    "                eps=1e-08,\n",
    "                weight_decay=0,\n",
    "                amsgrad=False)"
   ]
  },
  {
   "cell_type": "code",
   "execution_count": 98,
   "metadata": {},
   "outputs": [
    {
     "name": "stderr",
     "output_type": "stream",
     "text": [
      "                                                                                   \r"
     ]
    },
    {
     "name": "stdout",
     "output_type": "stream",
     "text": [
      "Loss for epoch 0 is [83.72135406] and [77.10205421]\n"
     ]
    },
    {
     "name": "stderr",
     "output_type": "stream",
     "text": [
      "                                                                                       \r"
     ]
    },
    {
     "name": "stdout",
     "output_type": "stream",
     "text": [
      "Loss for epoch 1 is [78.30500134] and [72.67843645]\n"
     ]
    },
    {
     "name": "stderr",
     "output_type": "stream",
     "text": [
      "                                                                                   \r"
     ]
    },
    {
     "name": "stdout",
     "output_type": "stream",
     "text": [
      "Loss for epoch 2 is [74.79208116] and [67.88529536]\n"
     ]
    },
    {
     "name": "stderr",
     "output_type": "stream",
     "text": [
      "                                                                                       \r"
     ]
    },
    {
     "name": "stdout",
     "output_type": "stream",
     "text": [
      "Loss for epoch 3 is [71.78012498] and [63.16149182]\n"
     ]
    },
    {
     "name": "stderr",
     "output_type": "stream",
     "text": [
      "                                                                                   \r"
     ]
    },
    {
     "name": "stdout",
     "output_type": "stream",
     "text": [
      "Loss for epoch 4 is [69.05759813] and [57.35326546]\n"
     ]
    },
    {
     "name": "stderr",
     "output_type": "stream",
     "text": [
      "                                                                                   \r"
     ]
    },
    {
     "name": "stdout",
     "output_type": "stream",
     "text": [
      "Loss for epoch 5 is [66.21079911] and [49.94028188]\n"
     ]
    },
    {
     "name": "stderr",
     "output_type": "stream",
     "text": [
      "                                                                                   \r"
     ]
    },
    {
     "name": "stdout",
     "output_type": "stream",
     "text": [
      "Loss for epoch 6 is [63.40411284] and [42.72734683]\n"
     ]
    },
    {
     "name": "stderr",
     "output_type": "stream",
     "text": [
      "Epoch [7/100]:   3%|▎         | 21/626 [00:07<03:56,  2.56it/s, loss=[0.09398893]]"
     ]
    }
   ],
   "source": [
    "epochs = 100\n",
    "lr = 0.1\n",
    "batch_size = 1\n",
    "\n",
    "train(ffd,trt,trainingloader,epochs,optimizerF,optimizerT)"
   ]
  },
  {
   "cell_type": "code",
   "execution_count": null,
   "metadata": {},
   "outputs": [],
   "source": []
  }
 ],
 "metadata": {
  "kernelspec": {
   "display_name": "ADL",
   "language": "python",
   "name": "python3"
  },
  "language_info": {
   "codemirror_mode": {
    "name": "ipython",
    "version": 3
   },
   "file_extension": ".py",
   "mimetype": "text/x-python",
   "name": "python",
   "nbconvert_exporter": "python",
   "pygments_lexer": "ipython3",
   "version": "3.9.16"
  }
 },
 "nbformat": 4,
 "nbformat_minor": 2
}
